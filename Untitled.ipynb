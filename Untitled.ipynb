{
 "cells": [
  {
   "cell_type": "code",
   "execution_count": 1,
   "metadata": {
    "collapsed": true
   },
   "outputs": [],
   "source": [
    "import tensorflow as tf\n",
    "from PNN import PNN\n",
    "import pickle\n",
    "import run_dqn_atari"
   ]
  },
  {
   "cell_type": "code",
   "execution_count": 2,
   "metadata": {
    "collapsed": true
   },
   "outputs": [],
   "source": [
    "sess = tf.InteractiveSession()"
   ]
  },
  {
   "cell_type": "code",
   "execution_count": 3,
   "metadata": {
    "collapsed": false,
    "scrolled": true
   },
   "outputs": [],
   "source": [
    "x = tf.placeholder(tf.float32, [None, 84, 84, 4])\n",
    "structure = [(84, 84, 4), (8, 8, 4, 32), (4, 4, 2, 64), (3, 3, 1, 64), (512,)]\n",
    "pnn = PNN(\n",
    "        \"q_func\", \n",
    "        structure, \n",
    "        x, \n",
    "        branch_layer = 1, \n",
    "        reuse=False\n",
    "    )\n",
    "pnn.add_col(6)\n",
    "pnn.add_col(6)\n",
    "loader = tf.train.Saver()"
   ]
  },
  {
   "cell_type": "code",
   "execution_count": 4,
   "metadata": {
    "collapsed": false
   },
   "outputs": [
    {
     "name": "stdout",
     "output_type": "stream",
     "text": [
      "INFO:tensorflow:Restoring parameters from saved/TNN_layer_1/nn_20170430-172122-1450004\n"
     ]
    },
    {
     "name": "stderr",
     "output_type": "stream",
     "text": [
      "[2017-04-30 21:00:35,721] Restoring parameters from saved/TNN_layer_1/nn_20170430-172122-1450004\n"
     ]
    }
   ],
   "source": [
    "loader.restore(sess,\"saved/TNN_layer_1/nn_20170430-172122-1450004\")"
   ]
  },
  {
   "cell_type": "code",
   "execution_count": null,
   "metadata": {
    "collapsed": false
   },
   "outputs": [],
   "source": [
    "collections = tf.get_collection(tf.GraphKeys.GLOBAL_VARIABLES, \"q_func\")"
   ]
  },
  {
   "cell_type": "code",
   "execution_count": null,
   "metadata": {
    "collapsed": false
   },
   "outputs": [],
   "source": [
    "saver0 = tf.train.Saver()"
   ]
  },
  {
   "cell_type": "code",
   "execution_count": null,
   "metadata": {
    "collapsed": false
   },
   "outputs": [],
   "source": [
    "saver0.save(sess, 'nn1')"
   ]
  },
  {
   "cell_type": "code",
   "execution_count": null,
   "metadata": {
    "collapsed": false
   },
   "outputs": [],
   "source": [
    "new_saver = tf.train.import_meta_graph('log/nn_20170430-042428-30004.meta')"
   ]
  },
  {
   "cell_type": "code",
   "execution_count": null,
   "metadata": {
    "collapsed": false
   },
   "outputs": [],
   "source": [
    "new_saver.restore(sess, tf.train.latest_checkpoint('log'))"
   ]
  },
  {
   "cell_type": "code",
   "execution_count": null,
   "metadata": {
    "collapsed": false,
    "scrolled": true
   },
   "outputs": [],
   "source": [
    "\n",
    "new_saver = tf.train.import_meta_graph('log/nn_20170430-062214-104.meta')\n",
    "new_saver.restore(sess, 'log/nn_20170430-062214-104')"
   ]
  },
  {
   "cell_type": "code",
   "execution_count": null,
   "metadata": {
    "collapsed": false
   },
   "outputs": [],
   "source": [
    "[n.name for n in tf.get_default_graph().as_graph_def().node]"
   ]
  },
  {
   "cell_type": "code",
   "execution_count": null,
   "metadata": {
    "collapsed": false
   },
   "outputs": [],
   "source": [
    "a = tf.get_default_graph().get_tensor_by_name('q_func/col0/layer1/conv/weights:0')"
   ]
  },
  {
   "cell_type": "code",
   "execution_count": null,
   "metadata": {
    "collapsed": false
   },
   "outputs": [],
   "source": [
    "a"
   ]
  },
  {
   "cell_type": "code",
   "execution_count": null,
   "metadata": {
    "collapsed": false
   },
   "outputs": [],
   "source": [
    "a.eval()"
   ]
  },
  {
   "cell_type": "code",
   "execution_count": null,
   "metadata": {
    "collapsed": false
   },
   "outputs": [],
   "source": [
    "a.eval()"
   ]
  },
  {
   "cell_type": "code",
   "execution_count": null,
   "metadata": {
    "collapsed": true
   },
   "outputs": [],
   "source": [
    "def checkInclusion(s1, s2):\n",
    "    \"\"\"\n",
    "    :type s1: str\n",
    "    :type s2: str\n",
    "    :rtype: bool\n",
    "    \"\"\"\n",
    "    if s1 is None or s2 is None:\n",
    "        return False\n",
    "    if len(s2) < len(s1):\n",
    "        return False\n",
    "    ref_list = [0]*26\n",
    "    for c in s1:\n",
    "        ref_list[ord(c)-ord('a')] += 1\n",
    "    test_list = [0]*26\n",
    "    mem_set = set()\n",
    "    mem_set.add(tuple(ref_list))\n",
    "    for c in s2:\n",
    "        test_list[ord(c)-ord('a')] += 1\n",
    "        test_tuple = tuple(test_list)\n",
    "        print test_tuple\n",
    "        if test_tuple in mem_set:\n",
    "            return True\n",
    "        mem_set.add(tuple([a+b for a, b in zip(test_list, ref_list)]))\n",
    "    return False"
   ]
  },
  {
   "cell_type": "code",
   "execution_count": null,
   "metadata": {
    "collapsed": false
   },
   "outputs": [],
   "source": [
    "s1 = \"a\"\n",
    "s2 = \"ab\"\n",
    "checkInclusion(s1, s2)"
   ]
  },
  {
   "cell_type": "code",
   "execution_count": null,
   "metadata": {
    "collapsed": false
   },
   "outputs": [],
   "source": [
    "(0,)*26"
   ]
  },
  {
   "cell_type": "code",
   "execution_count": null,
   "metadata": {
    "collapsed": true
   },
   "outputs": [],
   "source": [
    "ans = [[0]*3]*4"
   ]
  },
  {
   "cell_type": "code",
   "execution_count": null,
   "metadata": {
    "collapsed": false
   },
   "outputs": [],
   "source": [
    "ans"
   ]
  },
  {
   "cell_type": "code",
   "execution_count": null,
   "metadata": {
    "collapsed": true
   },
   "outputs": [],
   "source": [
    "def maxVacationDays(flights, days):\n",
    "    \"\"\"\n",
    "    :type flights: List[List[int]]\n",
    "    :type days: List[List[int]]\n",
    "    :rtype: int\n",
    "    \"\"\"\n",
    "    n = len(flights)\n",
    "    k = len(days[0])\n",
    "    ans = []\n",
    "    for i in range(n):\n",
    "        ans.append([])\n",
    "        for j in range(k):\n",
    "            ans[i].append(-1)\n",
    "    for week in xrange(k):\n",
    "        for city in xrange(n):\n",
    "            if week == 0:\n",
    "                if flights[0][city] == 1 or city == 0:\n",
    "                    ans[city][week] = days[city][week]\n",
    "            else:\n",
    "                for from_city in xrange(n):\n",
    "                    if ans[from_city][week-1] != -1 and (flights[from_city][city] == 1 or from_city == city):\n",
    "                        ans[city][week] = max(ans[city][week], ans[from_city][week-1]+days[city][week])\n",
    "    return max([a[-1] for a in ans])"
   ]
  },
  {
   "cell_type": "code",
   "execution_count": null,
   "metadata": {
    "collapsed": false
   },
   "outputs": [],
   "source": [
    "flights = [[0,0,0],[0,0,0],[0,0,0]]\n",
    "days = [[1,1,1],[7,7,7],[7,7,7]]"
   ]
  },
  {
   "cell_type": "code",
   "execution_count": null,
   "metadata": {
    "collapsed": false
   },
   "outputs": [],
   "source": [
    "maxVacationDays(flights, days)"
   ]
  },
  {
   "cell_type": "code",
   "execution_count": null,
   "metadata": {
    "collapsed": false
   },
   "outputs": [],
   "source": [
    "import gym\n",
    "import atari_wrappers\n",
    "benchmark = gym.benchmark_spec('Atari40M')\n",
    "task = benchmark.tasks[3]\n",
    "env = run_dqn_atari.get_env(task, 0, change = atari_wrappers.hflip)"
   ]
  },
  {
   "cell_type": "code",
   "execution_count": null,
   "metadata": {
    "collapsed": true
   },
   "outputs": [],
   "source": [
    "import dqn_utils\n",
    "episode_rewards = dqn_utils.get_wrapper_by_name(env, \"Monitor\").get_episode_rewards()"
   ]
  },
  {
   "cell_type": "code",
   "execution_count": null,
   "metadata": {
    "collapsed": false
   },
   "outputs": [],
   "source": [
    "episode_rewards"
   ]
  },
  {
   "cell_type": "code",
   "execution_count": null,
   "metadata": {
    "collapsed": true
   },
   "outputs": [],
   "source": [
    "import pickle"
   ]
  },
  {
   "cell_type": "code",
   "execution_count": null,
   "metadata": {
    "collapsed": true
   },
   "outputs": [],
   "source": [
    "with open('saved_policy.pkl', 'r') as f:\n",
    "    arr = pickle.load(f)"
   ]
  },
  {
   "cell_type": "code",
   "execution_count": null,
   "metadata": {
    "collapsed": false
   },
   "outputs": [],
   "source": [
    "arr[0]"
   ]
  },
  {
   "cell_type": "code",
   "execution_count": null,
   "metadata": {
    "collapsed": true
   },
   "outputs": [],
   "source": []
  }
 ],
 "metadata": {
  "kernelspec": {
   "display_name": "Python 2",
   "language": "python",
   "name": "python2"
  },
  "language_info": {
   "codemirror_mode": {
    "name": "ipython",
    "version": 2
   },
   "file_extension": ".py",
   "mimetype": "text/x-python",
   "name": "python",
   "nbconvert_exporter": "python",
   "pygments_lexer": "ipython2",
   "version": "2.7.13"
  }
 },
 "nbformat": 4,
 "nbformat_minor": 1
}
